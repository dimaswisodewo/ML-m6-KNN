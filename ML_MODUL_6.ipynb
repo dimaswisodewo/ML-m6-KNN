{
 "cells": [
  {
   "cell_type": "markdown",
   "metadata": {},
   "source": [
    "### LATIHAN"
   ]
  },
  {
   "cell_type": "code",
   "execution_count": 1,
   "metadata": {},
   "outputs": [],
   "source": [
    "import numpy as np\n",
    "\n",
    "X = np.array([[7,3], [1,10], [5,5], [2,1], [3,3], [2,7], [17,14],\n",
    "                [6,8], [7,5], [3,6]])\n",
    "\n",
    "y = np.array([1,1,1,2,2,2,1,2,1,2])"
   ]
  },
  {
   "cell_type": "code",
   "execution_count": 3,
   "metadata": {},
   "outputs": [
    {
     "data": {
      "image/png": "[encoded data removed]",
      "text/plain": [
       "<Figure size 432x288 with 1 Axes>"
      ]
     },
     "metadata": {
      "needs_background": "light"
     },
     "output_type": "display_data"
    },
    {
     "data": {
      "image/png": "[encoded data removed]",
      "text/plain": [
       "<Figure size 432x288 with 1 Axes>"
      ]
     },
     "metadata": {
      "needs_background": "light"
     },
     "output_type": "display_data"
    }
   ],
   "source": [
    "import matplotlib.pyplot as plt\n",
    "from matplotlib.colors import ListedColormap\n",
    "from sklearn import neighbors, datasets\n",
    "\n",
    "k_neighbors = 3\n",
    "h = .02 #step size in the mesh\n",
    "\n",
    "cmap_light = ListedColormap(['#FFAAAA', '#AAFFAA', '#AAAAFF'])\n",
    "cmap_bold = ListedColormap(['#FF0000', '#00FF00', '#0000FF'])\n",
    "    \n",
    "for weight in ['uniform', 'distance']:\n",
    "    clf = neighbors.KNeighborsClassifier(n_neighbors=k_neighbors, weights=weight)\n",
    "    clf.fit(X, y)\n",
    "    \n",
    "    #plot decision boundary dengan warna berbeda\n",
    "    x_min, x_max = X[:, 0].min() - 1, X[:, 0].max() + 1\n",
    "    y_min, y_max = X[:, 1].min() - 1, X[:, 1].max() + 1\n",
    "    xx, yy = np.meshgrid(np.arange(x_min, x_max, h), np.arange(y_min, y_max, h))\n",
    "    z = clf.predict(np.c_[xx.ravel(), yy.ravel()])\n",
    "    \n",
    "    #hasil klasifikasi pada peta warna\n",
    "    z = z.reshape(xx.shape)\n",
    "    plt.figure()\n",
    "    plt.pcolormesh(xx, yy, z, cmap=cmap_light)\n",
    "    \n",
    "    #plot data training\n",
    "    plt.scatter(X[:,0], X[:,1], c=y, cmap=cmap_bold, edgecolor='k', s=20)\n",
    "    plt.xlim(xx.min(), xx.max())\n",
    "    plt.ylim(yy.min(), yy.max())\n",
    "    plt.title(\"2-Class classification (k = %i, weights = '%s')\" % (k_neighbors, weight))\n",
    "    \n",
    "plt.show()"
   ]
  },
  {
   "cell_type": "markdown",
   "metadata": {},
   "source": [
    "### TUGAS"
   ]
  },
  {
   "cell_type": "code",
   "execution_count": 1,
   "metadata": {},
   "outputs": [],
   "source": [
    "import pandas as pd\n",
    "import matplotlib.pyplot as plt\n",
    "from matplotlib.colors import ListedColormap\n",
    "from sklearn import neighbors\n",
    "\n",
    "k_neighbors = 5\n",
    "data = pd.read_csv('breast_cancer_dataset.csv')\n",
    "\n",
    "classifier = neighbors.KNeighborsClassifier(n_neighbors=k_neighbors, weights='uniform',\n",
    "                                            algorithm='kd_tree', p=2, metric='minkowski')\n",
    "\n"
   ]
  },
  {
   "cell_type": "code",
   "execution_count": 2,
   "metadata": {},
   "outputs": [],
   "source": [
    "data = data.rename(columns = {'class':'target'})"
   ]
  },
  {
   "cell_type": "code",
   "execution_count": 3,
   "metadata": {},
   "outputs": [],
   "source": [
    "colnames = []\n",
    "\n",
    "for i in data.columns:\n",
    "    if i != 'target':\n",
    "        colnames.append(i)\n",
    "        \n",
    "X = pd.read_csv('breast_cancer_dataset.csv', usecols=colnames)\n",
    "y = data.target"
   ]
  },
  {
   "cell_type": "code",
   "execution_count": 4,
   "metadata": {},
   "outputs": [
    {
     "name": "stdout",
     "output_type": "stream",
     "text": [
      "[2 2 4 4 4 4 4 2 4 4 2 2 2 2 2 4 4 2 2 4 4 4 2 2 2 4 2 4 2 2 4 2 4 4 2 2 4\n",
      " 4 4 2 2 4 2 4 4 4 2 2 2 2 2 4 2 2 2 2 2 2 4 2 2 2 2 2 4 2 2 2 2 2 2 2 2 4\n",
      " 2 2 2 2 2 4 4 2 4 4 2 4 4 4 2 2 2 4 4 2 2 2 2 2 2 2 2 2 2 4 2 4 4 2 2 4 4\n",
      " 4 4 4 2 2 2 2 2 4 4 2 4 2 2 4 4 4 4 2 2 2 2 2 4 2 2 4 4 4 4 2 2 2 4 2 2 2\n",
      " 4 4 4 4 2 2 2 2 4 4 2 2 2 2 2 2 2 4 2 4 2 4 4 2 2 4 4 2 2 2 2 2 2 2 2 2 4\n",
      " 2 2 2 2 2 2 4 2 2 2 4 2 4 4 2 4 2 2 4 4 2 2 2 4 4 4 2 4 4 4 2 4 2 2 2 2 2\n",
      " 2 4 2 2 4 4 2 2 2 4 4 2 4 2 2 2 2 4 2 2 4 2 2 2 2 2 2 4 2 2 2 2 2 2 4 2 2\n",
      " 2 2 2 4 4 2 2 2 2 4 4 2 2 2 4 2 2 2 2 2 2 4 4 2 4 2]\n"
     ]
    }
   ],
   "source": [
    "from sklearn.model_selection import train_test_split\n",
    "\n",
    "X_train, X_test, y_train, y_test = train_test_split(X, y, test_size=.5, random_state=5)\n",
    "\n",
    "classifier.fit(X_train, y_train)\n",
    "\n",
    "y_pred = classifier.predict(X_test)\n",
    "\n",
    "print(y_pred)"
   ]
  },
  {
   "cell_type": "code",
   "execution_count": 6,
   "metadata": {},
   "outputs": [
    {
     "name": "stdout",
     "output_type": "stream",
     "text": [
      "accuracy :  0.9578947368421052\n",
      "precision :  0.9578947368421052\n",
      "recall :  0.9578947368421052\n"
     ]
    }
   ],
   "source": [
    "from sklearn.metrics import accuracy_score, precision_score, recall_score\n",
    "\n",
    "print(\"accuracy : \", accuracy_score(y_pred, y_test))\n",
    "print(\"precision : \", precision_score(y_pred, y_test, average='micro'))\n",
    "print(\"recall : \", recall_score(y_pred, y_test, average='micro'))"
   ]
  },
  {
   "cell_type": "code",
   "execution_count": 11,
   "metadata": {},
   "outputs": [
    {
     "name": "stdout",
     "output_type": "stream",
     "text": [
      "Accuracy :\n",
      " [0.8859649122807017, 0.9824561403508771, 0.956140350877193, 0.9736842105263158, 0.9911504424778761]\n",
      "Precision :\n",
      " [0.8859649122807017, 0.9824561403508771, 0.956140350877193, 0.9736842105263158, 0.9911504424778761]\n",
      "Recall :\n",
      " [0.8859649122807017, 0.9824561403508771, 0.956140350877193, 0.9736842105263158, 0.9911504424778761]\n"
     ]
    }
   ],
   "source": [
    "import pandas\n",
    "from sklearn.model_selection import KFold\n",
    "\n",
    "accuracy_scores = []\n",
    "precision_scores = []\n",
    "recall_scores = []\n",
    "kf = KFold(n_splits=5)\n",
    "\n",
    "for train_index, test_index in kf.split(X):\n",
    "    X_train, X_test = X.iloc[train_index], X.iloc[test_index]\n",
    "    y_train, y_test = y[train_index], y[test_index]\n",
    "    classifier.fit(X_train, y_train)\n",
    "    y_pred = classifier.predict(X_test)\n",
    "    accuracy_scores.append(accuracy_score(y_pred, y_test))\n",
    "    precision_scores.append(precision_score(y_pred, y_test, average='micro'))\n",
    "    recall_scores.append(recall_score(y_pred, y_test, average='micro'))\n",
    "    \n",
    "print(\"Accuracy :\\n\", accuracy_scores)\n",
    "print(\"Precision :\\n\", precision_scores)\n",
    "print(\"Recall :\\n\", recall_scores)"
   ]
  },
  {
   "cell_type": "markdown",
   "metadata": {},
   "source": [
    "### KESIMPULAN "
   ]
  },
  {
   "cell_type": "markdown",
   "metadata": {},
   "source": [
    "KNN secara umum bekerja dengan mencari kemiripan antar satu data dengan yang lain. Biasanya\n",
    "digunakan pada data yang tidak memiliki label (unsupervised) dan berbentuk numerik. KNN menghitung jarak antar data. Data dengan jarak yang berdekatan akan dijadikan satu kelompok. "
   ]
  },
  {
   "cell_type": "code",
   "execution_count": null,
   "metadata": {},
   "outputs": [],
   "source": []
  }
 ],
 "metadata": {
  "kernelspec": {
   "display_name": "Python 3",
   "language": "python",
   "name": "python3"
  },
  "language_info": {
   "codemirror_mode": {
    "name": "ipython",
    "version": 3
   },
   "file_extension": ".py",
   "mimetype": "text/x-python",
   "name": "python",
   "nbconvert_exporter": "python",
   "pygments_lexer": "ipython3",
   "version": "3.7.3"
  }
 },
 "nbformat": 4,
 "nbformat_minor": 2
}
